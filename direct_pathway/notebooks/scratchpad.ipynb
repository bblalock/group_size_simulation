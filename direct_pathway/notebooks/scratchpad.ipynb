{
 "cells": [
  {
   "cell_type": "code",
   "execution_count": 5,
   "metadata": {},
   "outputs": [
    {
     "data": {
      "text/html": [
       "<div>\n",
       "<style scoped>\n",
       "    .dataframe tbody tr th:only-of-type {\n",
       "        vertical-align: middle;\n",
       "    }\n",
       "\n",
       "    .dataframe tbody tr th {\n",
       "        vertical-align: top;\n",
       "    }\n",
       "\n",
       "    .dataframe thead th {\n",
       "        text-align: right;\n",
       "    }\n",
       "</style>\n",
       "<table border=\"1\" class=\"dataframe\">\n",
       "  <thead>\n",
       "    <tr style=\"text-align: right;\">\n",
       "      <th></th>\n",
       "      <th>theta</th>\n",
       "      <th>Group</th>\n",
       "      <th>Rate</th>\n",
       "      <th>pi</th>\n",
       "      <th>disparity_ratio</th>\n",
       "      <th>disparity_difference</th>\n",
       "      <th>odds_ratio</th>\n",
       "      <th>odds_disadvantaged</th>\n",
       "      <th>odds_advantaged</th>\n",
       "    </tr>\n",
       "  </thead>\n",
       "  <tbody>\n",
       "    <tr>\n",
       "      <th>0</th>\n",
       "      <td>0.00</td>\n",
       "      <td>Disadvantaged</td>\n",
       "      <td>200.0</td>\n",
       "      <td>0.1</td>\n",
       "      <td>1.000000</td>\n",
       "      <td>0.0</td>\n",
       "      <td>1.000000</td>\n",
       "      <td>0.002004</td>\n",
       "      <td>0.002004</td>\n",
       "    </tr>\n",
       "    <tr>\n",
       "      <th>1</th>\n",
       "      <td>0.00</td>\n",
       "      <td>Advantaged</td>\n",
       "      <td>200.0</td>\n",
       "      <td>0.1</td>\n",
       "      <td>1.000000</td>\n",
       "      <td>0.0</td>\n",
       "      <td>1.000000</td>\n",
       "      <td>0.002004</td>\n",
       "      <td>0.002004</td>\n",
       "    </tr>\n",
       "    <tr>\n",
       "      <th>2</th>\n",
       "      <td>0.00</td>\n",
       "      <td>Population Average</td>\n",
       "      <td>200.0</td>\n",
       "      <td>0.1</td>\n",
       "      <td>1.000000</td>\n",
       "      <td>0.0</td>\n",
       "      <td>1.000000</td>\n",
       "      <td>0.002004</td>\n",
       "      <td>0.002004</td>\n",
       "    </tr>\n",
       "    <tr>\n",
       "      <th>3</th>\n",
       "      <td>0.25</td>\n",
       "      <td>Disadvantaged</td>\n",
       "      <td>650.0</td>\n",
       "      <td>0.1</td>\n",
       "      <td>4.333333</td>\n",
       "      <td>500.0</td>\n",
       "      <td>4.355142</td>\n",
       "      <td>0.006543</td>\n",
       "      <td>0.001502</td>\n",
       "    </tr>\n",
       "    <tr>\n",
       "      <th>4</th>\n",
       "      <td>0.25</td>\n",
       "      <td>Advantaged</td>\n",
       "      <td>150.0</td>\n",
       "      <td>0.1</td>\n",
       "      <td>4.333333</td>\n",
       "      <td>500.0</td>\n",
       "      <td>4.355142</td>\n",
       "      <td>0.006543</td>\n",
       "      <td>0.001502</td>\n",
       "    </tr>\n",
       "  </tbody>\n",
       "</table>\n",
       "</div>"
      ],
      "text/plain": [
       "   theta               Group   Rate   pi  disparity_ratio  \\\n",
       "0   0.00       Disadvantaged  200.0  0.1         1.000000   \n",
       "1   0.00          Advantaged  200.0  0.1         1.000000   \n",
       "2   0.00  Population Average  200.0  0.1         1.000000   \n",
       "3   0.25       Disadvantaged  650.0  0.1         4.333333   \n",
       "4   0.25          Advantaged  150.0  0.1         4.333333   \n",
       "\n",
       "   disparity_difference  odds_ratio  odds_disadvantaged  odds_advantaged  \n",
       "0                   0.0    1.000000            0.002004         0.002004  \n",
       "1                   0.0    1.000000            0.002004         0.002004  \n",
       "2                   0.0    1.000000            0.002004         0.002004  \n",
       "3                 500.0    4.355142            0.006543         0.001502  \n",
       "4                 500.0    4.355142            0.006543         0.001502  "
      ]
     },
     "execution_count": 5,
     "metadata": {},
     "output_type": "execute_result"
    }
   ],
   "source": [
    "import sys\n",
    "import os\n",
    "sys.path.append(os.path.abspath(os.path.join(os.getcwd(), '..')))\n",
    "from src.direct_effect_simulation import incarceration_rate, calculate_disparity_measures\n",
    "import numpy as np\n",
    "import pandas as pd\n",
    "\n",
    "# Simulation parameters\n",
    "thetas = np.linspace(0, 1, 5)  # Disparity parameter values\n",
    "pi_values = np.linspace(.1, .9, 3)  # Group proportion values\n",
    "avg_rate = 200  # Average incarceration rate per 100,000\n",
    "\n",
    "# Store simulation results\n",
    "data = []\n",
    "\n",
    "# Run simulation\n",
    "for pi in pi_values:\n",
    "    for theta in thetas:\n",
    "        # Calculate group rates\n",
    "        rate_disadv = incarceration_rate(avg_rate, 'disadvantaged', theta, pi)\n",
    "        rate_adv = incarceration_rate(avg_rate, 'advantaged', theta, pi)\n",
    "        \n",
    "        # Calculate population average\n",
    "        pop_avg = pi * rate_disadv + (1 - pi) * rate_adv\n",
    "        \n",
    "        # Calculate disparity measures\n",
    "        disparities = calculate_disparity_measures(rate_disadv, rate_adv)\n",
    "        \n",
    "        # Store results\n",
    "        for group, rate in [('Disadvantaged', rate_disadv), \n",
    "                            ('Advantaged', rate_adv),\n",
    "                            ('Population Average', pop_avg)]:\n",
    "            data.append({\n",
    "                \"theta\": theta,\n",
    "                \"Group\": group,\n",
    "                \"Rate\": rate,\n",
    "                \"pi\": pi,\n",
    "                **disparities\n",
    "            })\n",
    "\n",
    "# Convert results to DataFrame\n",
    "results_df = pd.DataFrame(data)\n",
    "results_df.head()"
   ]
  },
  {
   "cell_type": "code",
   "execution_count": 11,
   "metadata": {},
   "outputs": [],
   "source": [
    "import plotly.graph_objects as go\n",
    "from plotly.subplots import make_subplots\n",
    "\n",
    "def plot_simulation_results(df: pd.DataFrame, pi_values: list) -> None:\n",
    "    \"\"\"Create visualization of simulation results\"\"\"\n",
    "    # Create figure with subplots\n",
    "    fig = make_subplots(\n",
    "        rows=len(pi_values), \n",
    "        cols=2,\n",
    "        subplot_titles=[f\"π = {pi}\" for pi in pi_values for _ in range(2)],\n",
    "        specs=[[{\"type\": \"bar\"}, {\"type\": \"table\"}] for _ in range(len(pi_values))],\n",
    "        horizontal_spacing=0.05,\n",
    "        vertical_spacing=0.1\n",
    "    )\n",
    "\n",
    "    # Add bar charts to left column\n",
    "    for i, pi in enumerate(pi_values):\n",
    "        # Filter data for this pi value\n",
    "        pi_data = df[(df[\"pi\"] == pi) & (df[\"Group\"] != \"Population Average\")]\n",
    "        \n",
    "        # Add grouped bar chart\n",
    "        for group in [\"Disadvantaged\", \"Advantaged\"]:\n",
    "            group_data = pi_data[pi_data[\"Group\"] == group]\n",
    "            fig.add_trace(\n",
    "                go.Bar(\n",
    "                    x=group_data[\"theta\"],\n",
    "                    y=group_data[\"Rate\"],\n",
    "                    name=group,\n",
    "                    legendgroup=group,\n",
    "                    showlegend=(i == 0),  # Only show in legend for first row\n",
    "                    marker_color=\"red\" if group == \"Disadvantaged\" else \"blue\"\n",
    "                ),\n",
    "                row=i+1, col=1\n",
    "            )\n",
    "        \n",
    "        # Add population average line\n",
    "        pop_avg_data = df[(df[\"Group\"] == \"Population Average\") & (df[\"pi\"] == pi)]\n",
    "        fig.add_trace(\n",
    "            go.Scatter(\n",
    "                x=pop_avg_data[\"theta\"],\n",
    "                y=pop_avg_data[\"Rate\"],\n",
    "                mode=\"lines\",\n",
    "                line=dict(color=\"grey\", width=1.5, dash=\"dash\"),\n",
    "                name=\"Population Average\",\n",
    "                legendgroup=\"Population Average\",\n",
    "                showlegend=(i == 0)  # Only show in legend for first row\n",
    "            ),\n",
    "            row=i+1, col=1\n",
    "        )\n",
    "        \n",
    "        # Add disparity metrics table to right column\n",
    "        # Create summary table for each theta value\n",
    "        table_data = []\n",
    "        for theta in thetas:\n",
    "            theta_data = df[(df[\"pi\"] == pi) & (df[\"theta\"] == theta) & (df[\"Group\"] == \"Disadvantaged\")]\n",
    "            if not theta_data.empty:\n",
    "                row = theta_data.iloc[0]\n",
    "                table_data.append([\n",
    "                    f\"{theta:.2f}\",\n",
    "                    f\"{row['disparity_difference']:.1f}\",\n",
    "                    f\"{row['disparity_ratio']:.2f}\",\n",
    "                    f\"{row['odds_disadvantaged']:.5f}\",\n",
    "                    f\"{row['odds_ratio']:.2f}\"\n",
    "                ])\n",
    "        \n",
    "        fig.add_trace(\n",
    "            go.Table(\n",
    "                header=dict(\n",
    "                    values=[\"θ\", \"Disparity Diff\", \"Disparity Ratio\", \"Odds (Disadv)\", \"Odds Ratio\"],\n",
    "                    font=dict(size=10),\n",
    "                    align=\"left\"\n",
    "                ),\n",
    "                cells=dict(\n",
    "                    values=list(map(list, zip(*table_data))),\n",
    "                    font=dict(size=10),\n",
    "                    align=\"left\"\n",
    "                )\n",
    "            ),\n",
    "            row=i+1, col=2\n",
    "        )\n",
    "\n",
    "    # Update layout\n",
    "    fig.update_layout(\n",
    "        height=300 * len(pi_values),\n",
    "        width=1000,\n",
    "        title=\"Group Effect on Incarceration Rates with Disparity Metrics\",\n",
    "        barmode=\"group\",\n",
    "        legend=dict(\n",
    "            orientation=\"h\",\n",
    "            yanchor=\"bottom\",\n",
    "            y=1.02,\n",
    "            xanchor=\"center\",\n",
    "            x=0.5\n",
    "        )\n",
    "    )\n",
    "\n",
    "    return fig"
   ]
  },
  {
   "cell_type": "code",
   "execution_count": 12,
   "metadata": {},
   "outputs": [
    {
     "data": {
      "application/vnd.plotly.v1+json": {
       "config": {
        "plotlyServerURL": "https://plot.ly"
       },
       "data": [
        {
         "legendgroup": "Disadvantaged",
         "marker": {
          "color": "red"
         },
         "name": "Disadvantaged",
         "showlegend": true,
         "type": "bar",
         "x": {
          "bdata": "AAAAAAAAAAAAAAAAAADQPwAAAAAAAOA/AAAAAAAA6D8AAAAAAADwPw==",
          "dtype": "f8"
         },
         "xaxis": "x",
         "y": {
          "bdata": "AAAAAAAAaUAAAAAAAFCEQAAAAAAAMJFAAAAAAAA4mEAAAAAAAECfQA==",
          "dtype": "f8"
         },
         "yaxis": "y"
        },
        {
         "legendgroup": "Advantaged",
         "marker": {
          "color": "blue"
         },
         "name": "Advantaged",
         "showlegend": true,
         "type": "bar",
         "x": {
          "bdata": "AAAAAAAAAAAAAAAAAADQPwAAAAAAAOA/AAAAAAAA6D8AAAAAAADwPw==",
          "dtype": "f8"
         },
         "xaxis": "x",
         "y": {
          "bdata": "AAAAAAAAaUAAAAAAAMBiQAAAAAAAAFlAAAAAAAAASUAAAAAAAAAAAA==",
          "dtype": "f8"
         },
         "yaxis": "y"
        },
        {
         "legendgroup": "Population Average",
         "line": {
          "color": "grey",
          "dash": "dash",
          "width": 1.5
         },
         "mode": "lines",
         "name": "Population Average",
         "showlegend": true,
         "type": "scatter",
         "x": {
          "bdata": "AAAAAAAAAAAAAAAAAADQPwAAAAAAAOA/AAAAAAAA6D8AAAAAAADwPw==",
          "dtype": "f8"
         },
         "xaxis": "x",
         "y": {
          "bdata": "AAAAAAAAaUAAAAAAAABpQAAAAAAAAGlAAAAAAAAAaUAAAAAAAABpQA==",
          "dtype": "f8"
         },
         "yaxis": "y"
        },
        {
         "cells": {
          "align": "left",
          "font": {
           "size": 10
          },
          "values": [
           [
            "0.00",
            "0.25",
            "0.50",
            "0.75",
            "1.00"
           ],
           [
            "0.0",
            "500.0",
            "1000.0",
            "1500.0",
            "2000.0"
           ],
           [
            "1.00",
            "4.33",
            "11.00",
            "31.00",
            "inf"
           ],
           [
            "0.00200",
            "0.00654",
            "0.01112",
            "0.01574",
            "0.02041"
           ],
           [
            "1.00",
            "4.36",
            "11.11",
            "31.47",
            "inf"
           ]
          ]
         },
         "domain": {
          "x": [
           0.525,
           1
          ],
          "y": [
           0.7333333333333334,
           1
          ]
         },
         "header": {
          "align": "left",
          "font": {
           "size": 10
          },
          "values": [
           "θ",
           "Disparity Diff",
           "Disparity Ratio",
           "Odds (Disadv)",
           "Odds Ratio"
          ]
         },
         "type": "table"
        },
        {
         "legendgroup": "Disadvantaged",
         "marker": {
          "color": "red"
         },
         "name": "Disadvantaged",
         "showlegend": false,
         "type": "bar",
         "x": {
          "bdata": "AAAAAAAAAAAAAAAAAADQPwAAAAAAAOA/AAAAAAAA6D8AAAAAAADwPw==",
          "dtype": "f8"
         },
         "xaxis": "x2",
         "y": {
          "bdata": "AAAAAAAAaUAAAAAAAEBvQAAAAAAAwHJAAAAAAADgdUAAAAAAAAB5QA==",
          "dtype": "f8"
         },
         "yaxis": "y2"
        },
        {
         "legendgroup": "Advantaged",
         "marker": {
          "color": "blue"
         },
         "name": "Advantaged",
         "showlegend": false,
         "type": "bar",
         "x": {
          "bdata": "AAAAAAAAAAAAAAAAAADQPwAAAAAAAOA/AAAAAAAA6D8AAAAAAADwPw==",
          "dtype": "f8"
         },
         "xaxis": "x2",
         "y": {
          "bdata": "AAAAAAAAaUAAAAAAAMBiQAAAAAAAAFlAAAAAAAAASUAAAAAAAAAAAA==",
          "dtype": "f8"
         },
         "yaxis": "y2"
        },
        {
         "legendgroup": "Population Average",
         "line": {
          "color": "grey",
          "dash": "dash",
          "width": 1.5
         },
         "mode": "lines",
         "name": "Population Average",
         "showlegend": false,
         "type": "scatter",
         "x": {
          "bdata": "AAAAAAAAAAAAAAAAAADQPwAAAAAAAOA/AAAAAAAA6D8AAAAAAADwPw==",
          "dtype": "f8"
         },
         "xaxis": "x2",
         "y": {
          "bdata": "AAAAAAAAaUAAAAAAAABpQAAAAAAAAGlAAAAAAAAAaUAAAAAAAABpQA==",
          "dtype": "f8"
         },
         "yaxis": "y2"
        },
        {
         "cells": {
          "align": "left",
          "font": {
           "size": 10
          },
          "values": [
           [
            "0.00",
            "0.25",
            "0.50",
            "0.75",
            "1.00"
           ],
           [
            "0.0",
            "100.0",
            "200.0",
            "300.0",
            "400.0"
           ],
           [
            "1.00",
            "1.67",
            "3.00",
            "7.00",
            "inf"
           ],
           [
            "0.00200",
            "0.00251",
            "0.00301",
            "0.00351",
            "0.00402"
           ],
           [
            "1.00",
            "1.67",
            "3.01",
            "7.02",
            "inf"
           ]
          ]
         },
         "domain": {
          "x": [
           0.525,
           1
          ],
          "y": [
           0.3666666666666667,
           0.6333333333333333
          ]
         },
         "header": {
          "align": "left",
          "font": {
           "size": 10
          },
          "values": [
           "θ",
           "Disparity Diff",
           "Disparity Ratio",
           "Odds (Disadv)",
           "Odds Ratio"
          ]
         },
         "type": "table"
        },
        {
         "legendgroup": "Disadvantaged",
         "marker": {
          "color": "red"
         },
         "name": "Disadvantaged",
         "showlegend": false,
         "type": "bar",
         "x": {
          "bdata": "AAAAAAAAAAAAAAAAAADQPwAAAAAAAOA/AAAAAAAA6D8AAAAAAADwPw==",
          "dtype": "f8"
         },
         "xaxis": "x3",
         "y": {
          "bdata": "AAAAAAAAaUAcx3Ecx7FpQDmO4ziOY2pAVVVVVVUVa0ByHMdxHMdrQA==",
          "dtype": "f8"
         },
         "yaxis": "y3"
        },
        {
         "legendgroup": "Advantaged",
         "marker": {
          "color": "blue"
         },
         "name": "Advantaged",
         "showlegend": false,
         "type": "bar",
         "x": {
          "bdata": "AAAAAAAAAAAAAAAAAADQPwAAAAAAAOA/AAAAAAAA6D8AAAAAAADwPw==",
          "dtype": "f8"
         },
         "xaxis": "x3",
         "y": {
          "bdata": "AAAAAAAAaUAAAAAAAMBiQAAAAAAAAFlAAAAAAAAASUAAAAAAAAAAAA==",
          "dtype": "f8"
         },
         "yaxis": "y3"
        },
        {
         "legendgroup": "Population Average",
         "line": {
          "color": "grey",
          "dash": "dash",
          "width": 1.5
         },
         "mode": "lines",
         "name": "Population Average",
         "showlegend": false,
         "type": "scatter",
         "x": {
          "bdata": "AAAAAAAAAAAAAAAAAADQPwAAAAAAAOA/AAAAAAAA6D8AAAAAAADwPw==",
          "dtype": "f8"
         },
         "xaxis": "x3",
         "y": {
          "bdata": "AAAAAAAAaUAAAAAAAABpQAAAAAAAAGlAAAAAAAAAaUAAAAAAAABpQA==",
          "dtype": "f8"
         },
         "yaxis": "y3"
        },
        {
         "cells": {
          "align": "left",
          "font": {
           "size": 10
          },
          "values": [
           [
            "0.00",
            "0.25",
            "0.50",
            "0.75",
            "1.00"
           ],
           [
            "0.0",
            "55.6",
            "111.1",
            "166.7",
            "222.2"
           ],
           [
            "1.00",
            "1.37",
            "2.11",
            "4.33",
            "inf"
           ],
           [
            "0.00200",
            "0.00206",
            "0.00212",
            "0.00217",
            "0.00223"
           ],
           [
            "1.00",
            "1.37",
            "2.11",
            "4.34",
            "inf"
           ]
          ]
         },
         "domain": {
          "x": [
           0.525,
           1
          ],
          "y": [
           0,
           0.26666666666666666
          ]
         },
         "header": {
          "align": "left",
          "font": {
           "size": 10
          },
          "values": [
           "θ",
           "Disparity Diff",
           "Disparity Ratio",
           "Odds (Disadv)",
           "Odds Ratio"
          ]
         },
         "type": "table"
        }
       ],
       "layout": {
        "annotations": [
         {
          "font": {
           "size": 16
          },
          "showarrow": false,
          "text": "π = 0.1",
          "x": 0.2375,
          "xanchor": "center",
          "xref": "paper",
          "y": 1,
          "yanchor": "bottom",
          "yref": "paper"
         },
         {
          "font": {
           "size": 16
          },
          "showarrow": false,
          "text": "π = 0.1",
          "x": 0.7625,
          "xanchor": "center",
          "xref": "paper",
          "y": 1,
          "yanchor": "bottom",
          "yref": "paper"
         },
         {
          "font": {
           "size": 16
          },
          "showarrow": false,
          "text": "π = 0.5",
          "x": 0.2375,
          "xanchor": "center",
          "xref": "paper",
          "y": 0.6333333333333333,
          "yanchor": "bottom",
          "yref": "paper"
         },
         {
          "font": {
           "size": 16
          },
          "showarrow": false,
          "text": "π = 0.5",
          "x": 0.7625,
          "xanchor": "center",
          "xref": "paper",
          "y": 0.6333333333333333,
          "yanchor": "bottom",
          "yref": "paper"
         },
         {
          "font": {
           "size": 16
          },
          "showarrow": false,
          "text": "π = 0.9",
          "x": 0.2375,
          "xanchor": "center",
          "xref": "paper",
          "y": 0.26666666666666666,
          "yanchor": "bottom",
          "yref": "paper"
         },
         {
          "font": {
           "size": 16
          },
          "showarrow": false,
          "text": "π = 0.9",
          "x": 0.7625,
          "xanchor": "center",
          "xref": "paper",
          "y": 0.26666666666666666,
          "yanchor": "bottom",
          "yref": "paper"
         }
        ],
        "barmode": "group",
        "height": 900,
        "legend": {
         "orientation": "h",
         "x": 0.5,
         "xanchor": "center",
         "y": 1.02,
         "yanchor": "bottom"
        },
        "template": {
         "data": {
          "bar": [
           {
            "error_x": {
             "color": "#2a3f5f"
            },
            "error_y": {
             "color": "#2a3f5f"
            },
            "marker": {
             "line": {
              "color": "#E5ECF6",
              "width": 0.5
             },
             "pattern": {
              "fillmode": "overlay",
              "size": 10,
              "solidity": 0.2
             }
            },
            "type": "bar"
           }
          ],
          "barpolar": [
           {
            "marker": {
             "line": {
              "color": "#E5ECF6",
              "width": 0.5
             },
             "pattern": {
              "fillmode": "overlay",
              "size": 10,
              "solidity": 0.2
             }
            },
            "type": "barpolar"
           }
          ],
          "carpet": [
           {
            "aaxis": {
             "endlinecolor": "#2a3f5f",
             "gridcolor": "white",
             "linecolor": "white",
             "minorgridcolor": "white",
             "startlinecolor": "#2a3f5f"
            },
            "baxis": {
             "endlinecolor": "#2a3f5f",
             "gridcolor": "white",
             "linecolor": "white",
             "minorgridcolor": "white",
             "startlinecolor": "#2a3f5f"
            },
            "type": "carpet"
           }
          ],
          "choropleth": [
           {
            "colorbar": {
             "outlinewidth": 0,
             "ticks": ""
            },
            "type": "choropleth"
           }
          ],
          "contour": [
           {
            "colorbar": {
             "outlinewidth": 0,
             "ticks": ""
            },
            "colorscale": [
             [
              0,
              "#0d0887"
             ],
             [
              0.1111111111111111,
              "#46039f"
             ],
             [
              0.2222222222222222,
              "#7201a8"
             ],
             [
              0.3333333333333333,
              "#9c179e"
             ],
             [
              0.4444444444444444,
              "#bd3786"
             ],
             [
              0.5555555555555556,
              "#d8576b"
             ],
             [
              0.6666666666666666,
              "#ed7953"
             ],
             [
              0.7777777777777778,
              "#fb9f3a"
             ],
             [
              0.8888888888888888,
              "#fdca26"
             ],
             [
              1,
              "#f0f921"
             ]
            ],
            "type": "contour"
           }
          ],
          "contourcarpet": [
           {
            "colorbar": {
             "outlinewidth": 0,
             "ticks": ""
            },
            "type": "contourcarpet"
           }
          ],
          "heatmap": [
           {
            "colorbar": {
             "outlinewidth": 0,
             "ticks": ""
            },
            "colorscale": [
             [
              0,
              "#0d0887"
             ],
             [
              0.1111111111111111,
              "#46039f"
             ],
             [
              0.2222222222222222,
              "#7201a8"
             ],
             [
              0.3333333333333333,
              "#9c179e"
             ],
             [
              0.4444444444444444,
              "#bd3786"
             ],
             [
              0.5555555555555556,
              "#d8576b"
             ],
             [
              0.6666666666666666,
              "#ed7953"
             ],
             [
              0.7777777777777778,
              "#fb9f3a"
             ],
             [
              0.8888888888888888,
              "#fdca26"
             ],
             [
              1,
              "#f0f921"
             ]
            ],
            "type": "heatmap"
           }
          ],
          "histogram": [
           {
            "marker": {
             "pattern": {
              "fillmode": "overlay",
              "size": 10,
              "solidity": 0.2
             }
            },
            "type": "histogram"
           }
          ],
          "histogram2d": [
           {
            "colorbar": {
             "outlinewidth": 0,
             "ticks": ""
            },
            "colorscale": [
             [
              0,
              "#0d0887"
             ],
             [
              0.1111111111111111,
              "#46039f"
             ],
             [
              0.2222222222222222,
              "#7201a8"
             ],
             [
              0.3333333333333333,
              "#9c179e"
             ],
             [
              0.4444444444444444,
              "#bd3786"
             ],
             [
              0.5555555555555556,
              "#d8576b"
             ],
             [
              0.6666666666666666,
              "#ed7953"
             ],
             [
              0.7777777777777778,
              "#fb9f3a"
             ],
             [
              0.8888888888888888,
              "#fdca26"
             ],
             [
              1,
              "#f0f921"
             ]
            ],
            "type": "histogram2d"
           }
          ],
          "histogram2dcontour": [
           {
            "colorbar": {
             "outlinewidth": 0,
             "ticks": ""
            },
            "colorscale": [
             [
              0,
              "#0d0887"
             ],
             [
              0.1111111111111111,
              "#46039f"
             ],
             [
              0.2222222222222222,
              "#7201a8"
             ],
             [
              0.3333333333333333,
              "#9c179e"
             ],
             [
              0.4444444444444444,
              "#bd3786"
             ],
             [
              0.5555555555555556,
              "#d8576b"
             ],
             [
              0.6666666666666666,
              "#ed7953"
             ],
             [
              0.7777777777777778,
              "#fb9f3a"
             ],
             [
              0.8888888888888888,
              "#fdca26"
             ],
             [
              1,
              "#f0f921"
             ]
            ],
            "type": "histogram2dcontour"
           }
          ],
          "mesh3d": [
           {
            "colorbar": {
             "outlinewidth": 0,
             "ticks": ""
            },
            "type": "mesh3d"
           }
          ],
          "parcoords": [
           {
            "line": {
             "colorbar": {
              "outlinewidth": 0,
              "ticks": ""
             }
            },
            "type": "parcoords"
           }
          ],
          "pie": [
           {
            "automargin": true,
            "type": "pie"
           }
          ],
          "scatter": [
           {
            "fillpattern": {
             "fillmode": "overlay",
             "size": 10,
             "solidity": 0.2
            },
            "type": "scatter"
           }
          ],
          "scatter3d": [
           {
            "line": {
             "colorbar": {
              "outlinewidth": 0,
              "ticks": ""
             }
            },
            "marker": {
             "colorbar": {
              "outlinewidth": 0,
              "ticks": ""
             }
            },
            "type": "scatter3d"
           }
          ],
          "scattercarpet": [
           {
            "marker": {
             "colorbar": {
              "outlinewidth": 0,
              "ticks": ""
             }
            },
            "type": "scattercarpet"
           }
          ],
          "scattergeo": [
           {
            "marker": {
             "colorbar": {
              "outlinewidth": 0,
              "ticks": ""
             }
            },
            "type": "scattergeo"
           }
          ],
          "scattergl": [
           {
            "marker": {
             "colorbar": {
              "outlinewidth": 0,
              "ticks": ""
             }
            },
            "type": "scattergl"
           }
          ],
          "scattermap": [
           {
            "marker": {
             "colorbar": {
              "outlinewidth": 0,
              "ticks": ""
             }
            },
            "type": "scattermap"
           }
          ],
          "scattermapbox": [
           {
            "marker": {
             "colorbar": {
              "outlinewidth": 0,
              "ticks": ""
             }
            },
            "type": "scattermapbox"
           }
          ],
          "scatterpolar": [
           {
            "marker": {
             "colorbar": {
              "outlinewidth": 0,
              "ticks": ""
             }
            },
            "type": "scatterpolar"
           }
          ],
          "scatterpolargl": [
           {
            "marker": {
             "colorbar": {
              "outlinewidth": 0,
              "ticks": ""
             }
            },
            "type": "scatterpolargl"
           }
          ],
          "scatterternary": [
           {
            "marker": {
             "colorbar": {
              "outlinewidth": 0,
              "ticks": ""
             }
            },
            "type": "scatterternary"
           }
          ],
          "surface": [
           {
            "colorbar": {
             "outlinewidth": 0,
             "ticks": ""
            },
            "colorscale": [
             [
              0,
              "#0d0887"
             ],
             [
              0.1111111111111111,
              "#46039f"
             ],
             [
              0.2222222222222222,
              "#7201a8"
             ],
             [
              0.3333333333333333,
              "#9c179e"
             ],
             [
              0.4444444444444444,
              "#bd3786"
             ],
             [
              0.5555555555555556,
              "#d8576b"
             ],
             [
              0.6666666666666666,
              "#ed7953"
             ],
             [
              0.7777777777777778,
              "#fb9f3a"
             ],
             [
              0.8888888888888888,
              "#fdca26"
             ],
             [
              1,
              "#f0f921"
             ]
            ],
            "type": "surface"
           }
          ],
          "table": [
           {
            "cells": {
             "fill": {
              "color": "#EBF0F8"
             },
             "line": {
              "color": "white"
             }
            },
            "header": {
             "fill": {
              "color": "#C8D4E3"
             },
             "line": {
              "color": "white"
             }
            },
            "type": "table"
           }
          ]
         },
         "layout": {
          "annotationdefaults": {
           "arrowcolor": "#2a3f5f",
           "arrowhead": 0,
           "arrowwidth": 1
          },
          "autotypenumbers": "strict",
          "coloraxis": {
           "colorbar": {
            "outlinewidth": 0,
            "ticks": ""
           }
          },
          "colorscale": {
           "diverging": [
            [
             0,
             "#8e0152"
            ],
            [
             0.1,
             "#c51b7d"
            ],
            [
             0.2,
             "#de77ae"
            ],
            [
             0.3,
             "#f1b6da"
            ],
            [
             0.4,
             "#fde0ef"
            ],
            [
             0.5,
             "#f7f7f7"
            ],
            [
             0.6,
             "#e6f5d0"
            ],
            [
             0.7,
             "#b8e186"
            ],
            [
             0.8,
             "#7fbc41"
            ],
            [
             0.9,
             "#4d9221"
            ],
            [
             1,
             "#276419"
            ]
           ],
           "sequential": [
            [
             0,
             "#0d0887"
            ],
            [
             0.1111111111111111,
             "#46039f"
            ],
            [
             0.2222222222222222,
             "#7201a8"
            ],
            [
             0.3333333333333333,
             "#9c179e"
            ],
            [
             0.4444444444444444,
             "#bd3786"
            ],
            [
             0.5555555555555556,
             "#d8576b"
            ],
            [
             0.6666666666666666,
             "#ed7953"
            ],
            [
             0.7777777777777778,
             "#fb9f3a"
            ],
            [
             0.8888888888888888,
             "#fdca26"
            ],
            [
             1,
             "#f0f921"
            ]
           ],
           "sequentialminus": [
            [
             0,
             "#0d0887"
            ],
            [
             0.1111111111111111,
             "#46039f"
            ],
            [
             0.2222222222222222,
             "#7201a8"
            ],
            [
             0.3333333333333333,
             "#9c179e"
            ],
            [
             0.4444444444444444,
             "#bd3786"
            ],
            [
             0.5555555555555556,
             "#d8576b"
            ],
            [
             0.6666666666666666,
             "#ed7953"
            ],
            [
             0.7777777777777778,
             "#fb9f3a"
            ],
            [
             0.8888888888888888,
             "#fdca26"
            ],
            [
             1,
             "#f0f921"
            ]
           ]
          },
          "colorway": [
           "#636efa",
           "#EF553B",
           "#00cc96",
           "#ab63fa",
           "#FFA15A",
           "#19d3f3",
           "#FF6692",
           "#B6E880",
           "#FF97FF",
           "#FECB52"
          ],
          "font": {
           "color": "#2a3f5f"
          },
          "geo": {
           "bgcolor": "white",
           "lakecolor": "white",
           "landcolor": "#E5ECF6",
           "showlakes": true,
           "showland": true,
           "subunitcolor": "white"
          },
          "hoverlabel": {
           "align": "left"
          },
          "hovermode": "closest",
          "mapbox": {
           "style": "light"
          },
          "paper_bgcolor": "white",
          "plot_bgcolor": "#E5ECF6",
          "polar": {
           "angularaxis": {
            "gridcolor": "white",
            "linecolor": "white",
            "ticks": ""
           },
           "bgcolor": "#E5ECF6",
           "radialaxis": {
            "gridcolor": "white",
            "linecolor": "white",
            "ticks": ""
           }
          },
          "scene": {
           "xaxis": {
            "backgroundcolor": "#E5ECF6",
            "gridcolor": "white",
            "gridwidth": 2,
            "linecolor": "white",
            "showbackground": true,
            "ticks": "",
            "zerolinecolor": "white"
           },
           "yaxis": {
            "backgroundcolor": "#E5ECF6",
            "gridcolor": "white",
            "gridwidth": 2,
            "linecolor": "white",
            "showbackground": true,
            "ticks": "",
            "zerolinecolor": "white"
           },
           "zaxis": {
            "backgroundcolor": "#E5ECF6",
            "gridcolor": "white",
            "gridwidth": 2,
            "linecolor": "white",
            "showbackground": true,
            "ticks": "",
            "zerolinecolor": "white"
           }
          },
          "shapedefaults": {
           "line": {
            "color": "#2a3f5f"
           }
          },
          "ternary": {
           "aaxis": {
            "gridcolor": "white",
            "linecolor": "white",
            "ticks": ""
           },
           "baxis": {
            "gridcolor": "white",
            "linecolor": "white",
            "ticks": ""
           },
           "bgcolor": "#E5ECF6",
           "caxis": {
            "gridcolor": "white",
            "linecolor": "white",
            "ticks": ""
           }
          },
          "title": {
           "x": 0.05
          },
          "xaxis": {
           "automargin": true,
           "gridcolor": "white",
           "linecolor": "white",
           "ticks": "",
           "title": {
            "standoff": 15
           },
           "zerolinecolor": "white",
           "zerolinewidth": 2
          },
          "yaxis": {
           "automargin": true,
           "gridcolor": "white",
           "linecolor": "white",
           "ticks": "",
           "title": {
            "standoff": 15
           },
           "zerolinecolor": "white",
           "zerolinewidth": 2
          }
         }
        },
        "title": {
         "text": "Group Effect on Incarceration Rates with Disparity Metrics"
        },
        "width": 1000,
        "xaxis": {
         "anchor": "y",
         "domain": [
          0,
          0.475
         ]
        },
        "xaxis2": {
         "anchor": "y2",
         "domain": [
          0,
          0.475
         ]
        },
        "xaxis3": {
         "anchor": "y3",
         "domain": [
          0,
          0.475
         ]
        },
        "yaxis": {
         "anchor": "x",
         "domain": [
          0.7333333333333334,
          1
         ]
        },
        "yaxis2": {
         "anchor": "x2",
         "domain": [
          0.3666666666666667,
          0.6333333333333333
         ]
        },
        "yaxis3": {
         "anchor": "x3",
         "domain": [
          0,
          0.26666666666666666
         ]
        }
       }
      }
     },
     "metadata": {},
     "output_type": "display_data"
    }
   ],
   "source": [
    "plot_simulation_results(results_df, pi_values)"
   ]
  },
  {
   "cell_type": "code",
   "execution_count": null,
   "metadata": {},
   "outputs": [],
   "source": []
  }
 ],
 "metadata": {
  "kernelspec": {
   "display_name": "group_size_sim",
   "language": "python",
   "name": "python3"
  },
  "language_info": {
   "codemirror_mode": {
    "name": "ipython",
    "version": 3
   },
   "file_extension": ".py",
   "mimetype": "text/x-python",
   "name": "python",
   "nbconvert_exporter": "python",
   "pygments_lexer": "ipython3",
   "version": "3.11.7"
  }
 },
 "nbformat": 4,
 "nbformat_minor": 2
}
